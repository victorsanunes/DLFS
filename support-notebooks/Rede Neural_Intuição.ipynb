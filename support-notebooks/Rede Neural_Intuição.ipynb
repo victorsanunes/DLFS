{
 "cells": [
  {
   "cell_type": "markdown",
   "metadata": {},
   "source": [
    "Neste notebook, vamos codificar Redes Neurais de forma manual para tentar entender intuitivamente como elas são implementadas na prática."
   ]
  },
  {
   "cell_type": "markdown",
   "metadata": {},
   "source": [
    "# Sumário"
   ]
  },
  {
   "cell_type": "markdown",
   "metadata": {},
   "source": [
    "- [Exemplo 1](#Exemplo-1)\n",
    "- [Exemplo 2](#Exemplo-2)\n",
    "- [O que precisamos para implementar uma Rede Neural?](#O-que-precisamos-para-implementar-uma-Rede-Neural?)\n",
    "- [Referências](#Referências)"
   ]
  },
  {
   "cell_type": "markdown",
   "metadata": {},
   "source": [
    "# Imports e Configurações"
   ]
  },
  {
   "cell_type": "code",
   "execution_count": 1,
   "metadata": {},
   "outputs": [],
   "source": [
    "import numpy as np"
   ]
  },
  {
   "cell_type": "markdown",
   "metadata": {},
   "source": [
    "# Exemplo 1"
   ]
  },
  {
   "cell_type": "markdown",
   "metadata": {},
   "source": [
    "<img src='images/backprop_example_1.png'>"
   ]
  },
  {
   "cell_type": "code",
   "execution_count": 2,
   "metadata": {},
   "outputs": [],
   "source": [
    "def sigmoid(x, derivative = False):\n",
    "    if not derivative:\n",
    "        return 1/(1+np.exp(-x))\n",
    "    else:\n",
    "        y = sigmoid(x)\n",
    "        return y * (1-y)"
   ]
  },
  {
   "cell_type": "code",
   "execution_count": 11,
   "metadata": {},
   "outputs": [
    {
     "name": "stdout",
     "output_type": "stream",
     "text": [
      "[[0.00043857 0.00087714]\n",
      " [0.00049771 0.00099543]]\n",
      "[[ 0.08216704  0.08266763]\n",
      " [-0.02260254 -0.02274024]]\n",
      "[[0.14978072 0.19956143]\n",
      " [0.24975114 0.29950229]]\n",
      "[[0.35891648 0.40866619]\n",
      " [0.51130127 0.56137012]]\n"
     ]
    }
   ],
   "source": [
    "x = np.array([[0.05, 0.1]])\n",
    "y = np.array([[0.01, 0.99]])\n",
    "\n",
    "w1 = np.array([[0.15, 0.20], [0.25, 0.3]])\n",
    "b1 = np.array(([[0.35]]))\n",
    "w2 = np.array(([[0.4, 0.45], [0.50, 0.55]]))\n",
    "b2 = np.array([[0.6]])\n",
    "\n",
    "learning_rate = 0.5\n",
    "\n",
    "for i in range(1):\n",
    "    # feed-forward\n",
    "    inp1 = np.dot(x, w1.T) + b1\n",
    "    h1 = sigmoid(inp1)\n",
    "    \n",
    "    inp2 = np.dot(h1, w2.T) + b2\n",
    "    out = sigmoid(inp2)\n",
    "    \n",
    "    cost = 0.5 * np.sum((y - out) ** 2)\n",
    "\n",
    "    # backpropagation\n",
    "    dout = -(y - out)\n",
    "    \n",
    "    # 2 camada\n",
    "    dinp2 = dout * sigmoid(inp2, True)\n",
    "    dh1 = np.dot(dinp2, w2)\n",
    "    dw2 = np.dot(dinp2.T, h1)\n",
    "    db2 = 1 * dinp2.sum(axis = 0, keepdims = True)\n",
    "    \n",
    "    # 1 camada\n",
    "    dinp1 = sigmoid(inp1, True) * dh1\n",
    "    dx = np.dot(dinp1, w1) \n",
    "    dw1 = np.dot(dinp1.T, x)\n",
    "    db1 = 1 * dinp1.sum(axis = 0, keepdims = True)\n",
    "    \n",
    "    print(dw1)\n",
    "    print(dw2)\n",
    "    \n",
    "    # update\n",
    "    w2 = w2 - learning_rate * dw2\n",
    "    w1 = w1 - learning_rate * dw1\n",
    "    \n",
    "    b1 = b1 - learning_rate * db1\n",
    "    b2 = b2 - learning_rate * db2\n",
    "    \n",
    "    print(w1)\n",
    "    print(w2)"
   ]
  },
  {
   "cell_type": "markdown",
   "metadata": {},
   "source": [
    "# Exemplo 2"
   ]
  },
  {
   "cell_type": "code",
   "execution_count": 21,
   "metadata": {},
   "outputs": [],
   "source": [
    "def linear(x, derivative=False):\n",
    "    return np.ones_like(x) if derivative else x\n",
    "\n",
    "def relu(x, derivative=False):\n",
    "    if derivative:\n",
    "        x = np.where(x <= 0, 0, 1)\n",
    "    return np.maximum(0, x)\n",
    "\n",
    "def softmax(x, y_oh = None, derivative = False):\n",
    "    if derivative:\n",
    "        y_pred = softmax(x)\n",
    "        k = np.nonzero(y_pred * y_oh)\n",
    "        pk = y_pred[k]\n",
    "        y_pred[k] = pk * (1.0 - pk)\n",
    "        return y_pred\n",
    "    \n",
    "    exp = np.exp(x)\n",
    "    return exp / np.sum(exp, axis = 1, keepdims = True)\n",
    "\n",
    "def neg_log_likelihood(y_oh, y_pred, derivative = False):        \n",
    "    k = np.nonzero(y_pred * y_oh)\n",
    "    pk = y_pred[k]\n",
    "    \n",
    "    if derivative:\n",
    "        y_pred[k] = (-1.0 / pk)\n",
    "        return y_pred\n",
    "    \n",
    "    return np.mean(-np.log(pk))\n",
    "\n",
    "def softmax_neg_log_likelihood(y_oh, y_pred, derivative = False):\n",
    "    y_softmax = softmax(y_pred)\n",
    "    \n",
    "    if derivative:\n",
    "        k = np.nonzero(y_pred * y_oh)\n",
    "        dlog = neg_log_likelihood(y_oh, y_softmax, derivative = True)\n",
    "        dsoftmax = softmax(y_pred, y_oh, derivative = True)\n",
    "        y_softmax[k] = dlog[k] * dsoftmax[k]\n",
    "        return y_softmax / y_softmax.shape[0]\n",
    "    return neg_log_likelihood(y_oh, y_softmax)\n"
   ]
  },
  {
   "cell_type": "code",
   "execution_count": 24,
   "metadata": {},
   "outputs": [
    {
     "name": "stdout",
     "output_type": "stream",
     "text": [
      "1.1674456052871238\n",
      "0.607979582043569\n",
      "0.36558760028370507\n",
      "0.24943451548999276\n",
      "0.18547915491555542\n",
      "0.14614614804167658\n",
      "0.1199051550833629\n",
      "0.10131084011234358\n",
      "0.08751844300750028\n",
      "0.07691720650783256\n",
      "0.06853445083252653\n",
      "[[0.10083595 0.2016719  0.30585165]\n",
      " [0.30086971 0.20173942 0.70608796]\n",
      " [0.40145052 0.30290104 0.91015363]]\n",
      "[[0.20544723 0.30673159 0.50749567]\n",
      " [0.30994562 0.5123005  0.71366784]\n",
      " [0.61065514 0.41317913 0.81464085]]\n",
      "[[ 0.66465527  0.98758148  1.39393956]\n",
      " [ 0.05020341  0.44006253 -0.06274803]\n",
      " [ 0.18514132 -0.12764401  0.56880846]]\n"
     ]
    }
   ],
   "source": [
    "x = np.array([[0.1, 0.2, 0.7]])\n",
    "y = np.array([[1, 0, 0]])\n",
    "w1 = np.array([[0.1, 0.2, 0.3], [0.3, 0.2, 0.7], [0.4, 0.3, 0.9]])\n",
    "b1 = np.ones((1,3))\n",
    "w2 = np.array([[0.2, 0.3, 0.5], [0.3, 0.5, 0.7], [0.6, 0.4, 0.8]])\n",
    "b2 = np.ones((1,3))\n",
    "w3 = np.array([[0.1, 0.4, 0.8], [0.3, 0.7, 0.2], [0.5, 0.2, 0.9]])\n",
    "b3 = np.ones((1,3))\n",
    "\n",
    "learning_rate = 0.01\n",
    "\n",
    "for i in range(301):\n",
    "    # feedforward\n",
    "    # 1a camada\n",
    "    inp1 = np.dot(x, w1.T) + b1\n",
    "    h1 = relu(inp1)\n",
    "\n",
    "    # 2a camada\n",
    "    inp2 = np.dot(h1, w2.T) + b2\n",
    "    h2 = sigmoid(inp2)\n",
    "    \n",
    "    # 3a camada\n",
    "    inp3 = np.dot(h2, w3.T) + b3\n",
    "    out = linear(inp3)\n",
    "    \n",
    "    cost = softmax_neg_log_likelihood(y, out)\n",
    "\n",
    "    \n",
    "    # backpropagation\n",
    "    # insira seu código aqui!\n",
    "    dout = softmax_neg_log_likelihood(y, out, derivative = True)\n",
    "    \n",
    "    dinp3 = dout * linear(inp3, derivative = True)\n",
    "    dh2 = np.dot(dinp3, w3)\n",
    "    dw3 = np.dot(dinp3.T, h2) \n",
    "    db3 = 1.0 * dinp3.sum(axis = 0, keepdims = True)\n",
    "    \n",
    "    dinp2 = sigmoid(inp2, derivative = True) * dh2\n",
    "    dh1 = np.dot(dinp2, w2)\n",
    "    dw2 = np.dot(dinp2.T, h1) \n",
    "    db2 = 1.0 * dinp2.sum(axis = 0, keepdims = True)\n",
    "    \n",
    "    dinp1 = relu(inp1, derivative = True) * dh1\n",
    "    dx = np.dot(dinp1, w1)\n",
    "    dw1 = np.dot(dinp1.T, x) \n",
    "    db1 = 1.0 * dinp1.sum(axis = 0, keepdims = True)\n",
    "    \n",
    "    w3 = w3 - learning_rate * dw3\n",
    "    b3 = b3 - learning_rate * db3\n",
    "    \n",
    "    w2 = w2 - learning_rate * dw2\n",
    "    b2 = b2 - learning_rate * db2\n",
    "    \n",
    "    w1 = w1 - learning_rate * dw1\n",
    "    b1 = b1 - learning_rate * db1\n",
    "    \n",
    "\n",
    "    \n",
    "    if i % 30 == 0:\n",
    "        cost = softmax_neg_log_likelihood(y, out)\n",
    "        print(cost)\n",
    "        \n",
    "\n",
    "for w in [w1, w2, w3]:\n",
    "    print(w)"
   ]
  },
  {
   "cell_type": "markdown",
   "metadata": {},
   "source": [
    "# O que precisamos para implementar uma Rede Neural?"
   ]
  },
  {
   "cell_type": "markdown",
   "metadata": {},
   "source": [
    "- Entrada de cada neuronio\n",
    "- saída de cada neuronio\n",
    "- derivada de cada peso"
   ]
  },
  {
   "cell_type": "markdown",
   "metadata": {},
   "source": [
    "# Referências"
   ]
  },
  {
   "cell_type": "markdown",
   "metadata": {},
   "source": [
    "- [Neural Network from Scratch](https://beckernick.github.io/neural-network-scratch/)\n",
    "- [Backpropagation Algorithm](https://theclevermachine.wordpress.com/tag/backpropagation-algorithm/)\n",
    "- [Back-Propagation is very simple. Who made it Complicated ?](https://becominghuman.ai/back-propagation-is-very-simple-who-made-it-complicated-97b794c97e5c)\n",
    "- [A Step by Step Backpropagation Example](https://mattmazur.com/2015/03/17/a-step-by-step-backpropagation-example/)\n",
    "- [Understanding softmax and the negative log-likelihood](https://ljvmiranda921.github.io/notebook/2017/08/13/softmax-and-the-negative-log-likelihood/)"
   ]
  }
 ],
 "metadata": {
  "kernelspec": {
   "display_name": "Python 3",
   "language": "python",
   "name": "python3"
  },
  "language_info": {
   "codemirror_mode": {
    "name": "ipython",
    "version": 3
   },
   "file_extension": ".py",
   "mimetype": "text/x-python",
   "name": "python",
   "nbconvert_exporter": "python",
   "pygments_lexer": "ipython3",
   "version": "3.7.6"
  }
 },
 "nbformat": 4,
 "nbformat_minor": 4
}
